{
 "cells": [
  {
   "cell_type": "markdown",
   "id": "c8243a3b",
   "metadata": {},
   "source": [
    "# Working Notebook (Norman)\n",
    "\n",
    "## Work in Progress\n",
    "\n",
    "1. Update data record\n",
    "2. Save data source into sqlite (database) format\n",
    "3. Create a data visualization for the dataset"
   ]
  },
  {
   "cell_type": "code",
   "execution_count": 1,
   "id": "eafa4844",
   "metadata": {
    "ExecuteTime": {
     "end_time": "2023-03-14T01:45:36.495878Z",
     "start_time": "2023-03-14T01:45:34.296157Z"
    }
   },
   "outputs": [],
   "source": [
    "import pandas as pd\n",
    "import numpy as np\n",
    "import sqlite3\n",
    "import seaborn as sns\n",
    "from matplotlib import pyplot as plt\n",
    "from sqlalchemy import create_engine"
   ]
  },
  {
   "cell_type": "code",
   "execution_count": 2,
   "id": "cffc1f25",
   "metadata": {
    "ExecuteTime": {
     "end_time": "2023-03-14T01:45:36.543451Z",
     "start_time": "2023-03-14T01:45:36.496876Z"
    }
   },
   "outputs": [
    {
     "data": {
      "text/html": [
       "<div>\n",
       "<style scoped>\n",
       "    .dataframe tbody tr th:only-of-type {\n",
       "        vertical-align: middle;\n",
       "    }\n",
       "\n",
       "    .dataframe tbody tr th {\n",
       "        vertical-align: top;\n",
       "    }\n",
       "\n",
       "    .dataframe thead th {\n",
       "        text-align: right;\n",
       "    }\n",
       "</style>\n",
       "<table border=\"1\" class=\"dataframe\">\n",
       "  <thead>\n",
       "    <tr style=\"text-align: right;\">\n",
       "      <th></th>\n",
       "      <th>0</th>\n",
       "      <th>1</th>\n",
       "      <th>2</th>\n",
       "      <th>3</th>\n",
       "      <th>4</th>\n",
       "      <th>5</th>\n",
       "      <th>6</th>\n",
       "      <th>7</th>\n",
       "      <th>8</th>\n",
       "      <th>9</th>\n",
       "      <th>10</th>\n",
       "      <th>11</th>\n",
       "      <th>12</th>\n",
       "      <th>13</th>\n",
       "      <th>14</th>\n",
       "      <th>15</th>\n",
       "      <th>16</th>\n",
       "    </tr>\n",
       "  </thead>\n",
       "  <tbody>\n",
       "    <tr>\n",
       "      <th>0</th>\n",
       "      <td>30</td>\n",
       "      <td>unemployed</td>\n",
       "      <td>married</td>\n",
       "      <td>primary</td>\n",
       "      <td>no</td>\n",
       "      <td>1787</td>\n",
       "      <td>no</td>\n",
       "      <td>no</td>\n",
       "      <td>cellular</td>\n",
       "      <td>19</td>\n",
       "      <td>oct</td>\n",
       "      <td>79</td>\n",
       "      <td>1</td>\n",
       "      <td>-1</td>\n",
       "      <td>0</td>\n",
       "      <td>unknown</td>\n",
       "      <td>no</td>\n",
       "    </tr>\n",
       "    <tr>\n",
       "      <th>1</th>\n",
       "      <td>33</td>\n",
       "      <td>services</td>\n",
       "      <td>married</td>\n",
       "      <td>secondary</td>\n",
       "      <td>no</td>\n",
       "      <td>4789</td>\n",
       "      <td>yes</td>\n",
       "      <td>yes</td>\n",
       "      <td>cellular</td>\n",
       "      <td>11</td>\n",
       "      <td>may</td>\n",
       "      <td>220</td>\n",
       "      <td>1</td>\n",
       "      <td>339</td>\n",
       "      <td>4</td>\n",
       "      <td>failure</td>\n",
       "      <td>no</td>\n",
       "    </tr>\n",
       "    <tr>\n",
       "      <th>2</th>\n",
       "      <td>35</td>\n",
       "      <td>management</td>\n",
       "      <td>single</td>\n",
       "      <td>tertiary</td>\n",
       "      <td>no</td>\n",
       "      <td>1350</td>\n",
       "      <td>yes</td>\n",
       "      <td>no</td>\n",
       "      <td>cellular</td>\n",
       "      <td>16</td>\n",
       "      <td>apr</td>\n",
       "      <td>185</td>\n",
       "      <td>1</td>\n",
       "      <td>330</td>\n",
       "      <td>1</td>\n",
       "      <td>failure</td>\n",
       "      <td>no</td>\n",
       "    </tr>\n",
       "    <tr>\n",
       "      <th>3</th>\n",
       "      <td>30</td>\n",
       "      <td>management</td>\n",
       "      <td>married</td>\n",
       "      <td>tertiary</td>\n",
       "      <td>no</td>\n",
       "      <td>1476</td>\n",
       "      <td>yes</td>\n",
       "      <td>yes</td>\n",
       "      <td>unknown</td>\n",
       "      <td>3</td>\n",
       "      <td>jun</td>\n",
       "      <td>199</td>\n",
       "      <td>4</td>\n",
       "      <td>-1</td>\n",
       "      <td>0</td>\n",
       "      <td>unknown</td>\n",
       "      <td>no</td>\n",
       "    </tr>\n",
       "    <tr>\n",
       "      <th>4</th>\n",
       "      <td>59</td>\n",
       "      <td>blue-collar</td>\n",
       "      <td>married</td>\n",
       "      <td>secondary</td>\n",
       "      <td>no</td>\n",
       "      <td>0</td>\n",
       "      <td>yes</td>\n",
       "      <td>no</td>\n",
       "      <td>unknown</td>\n",
       "      <td>5</td>\n",
       "      <td>may</td>\n",
       "      <td>226</td>\n",
       "      <td>1</td>\n",
       "      <td>-1</td>\n",
       "      <td>0</td>\n",
       "      <td>unknown</td>\n",
       "      <td>no</td>\n",
       "    </tr>\n",
       "  </tbody>\n",
       "</table>\n",
       "</div>"
      ],
      "text/plain": [
       "   0            1        2          3   4     5    6    7         8   9    10  \\\n",
       "0  30   unemployed  married    primary  no  1787   no   no  cellular  19  oct   \n",
       "1  33     services  married  secondary  no  4789  yes  yes  cellular  11  may   \n",
       "2  35   management   single   tertiary  no  1350  yes   no  cellular  16  apr   \n",
       "3  30   management  married   tertiary  no  1476  yes  yes   unknown   3  jun   \n",
       "4  59  blue-collar  married  secondary  no     0  yes   no   unknown   5  may   \n",
       "\n",
       "    11  12   13  14       15  16  \n",
       "0   79   1   -1   0  unknown  no  \n",
       "1  220   1  339   4  failure  no  \n",
       "2  185   1  330   1  failure  no  \n",
       "3  199   4   -1   0  unknown  no  \n",
       "4  226   1   -1   0  unknown  no  "
      ]
     },
     "execution_count": 2,
     "metadata": {},
     "output_type": "execute_result"
    }
   ],
   "source": [
    "# Import dataset as Pandas Dataframe\n",
    "df = pd.read_csv('../Data/bank.csv', header=None)\n",
    "df.head()"
   ]
  },
  {
   "cell_type": "code",
   "execution_count": 3,
   "id": "a8fc9a7d",
   "metadata": {
    "ExecuteTime": {
     "end_time": "2023-03-14T01:45:36.559402Z",
     "start_time": "2023-03-14T01:45:36.544441Z"
    }
   },
   "outputs": [
    {
     "data": {
      "text/html": [
       "<div>\n",
       "<style scoped>\n",
       "    .dataframe tbody tr th:only-of-type {\n",
       "        vertical-align: middle;\n",
       "    }\n",
       "\n",
       "    .dataframe tbody tr th {\n",
       "        vertical-align: top;\n",
       "    }\n",
       "\n",
       "    .dataframe thead th {\n",
       "        text-align: right;\n",
       "    }\n",
       "</style>\n",
       "<table border=\"1\" class=\"dataframe\">\n",
       "  <thead>\n",
       "    <tr style=\"text-align: right;\">\n",
       "      <th></th>\n",
       "      <th>Age</th>\n",
       "      <th>WorkStatus</th>\n",
       "      <th>MarritalStatus</th>\n",
       "      <th>ClassStatus</th>\n",
       "      <th>Binary_1</th>\n",
       "      <th>Amount</th>\n",
       "      <th>Binary_2</th>\n",
       "      <th>Binary_3</th>\n",
       "      <th>Contact</th>\n",
       "      <th>Date</th>\n",
       "      <th>Month</th>\n",
       "      <th>BigInteger</th>\n",
       "      <th>TinyInteger_1</th>\n",
       "      <th>RealNumber</th>\n",
       "      <th>TinyInteger_2</th>\n",
       "      <th>Success</th>\n",
       "      <th>Result</th>\n",
       "    </tr>\n",
       "  </thead>\n",
       "  <tbody>\n",
       "    <tr>\n",
       "      <th>0</th>\n",
       "      <td>30</td>\n",
       "      <td>unemployed</td>\n",
       "      <td>married</td>\n",
       "      <td>primary</td>\n",
       "      <td>no</td>\n",
       "      <td>1787</td>\n",
       "      <td>no</td>\n",
       "      <td>no</td>\n",
       "      <td>cellular</td>\n",
       "      <td>19</td>\n",
       "      <td>oct</td>\n",
       "      <td>79</td>\n",
       "      <td>1</td>\n",
       "      <td>-1</td>\n",
       "      <td>0</td>\n",
       "      <td>unknown</td>\n",
       "      <td>no</td>\n",
       "    </tr>\n",
       "    <tr>\n",
       "      <th>1</th>\n",
       "      <td>33</td>\n",
       "      <td>services</td>\n",
       "      <td>married</td>\n",
       "      <td>secondary</td>\n",
       "      <td>no</td>\n",
       "      <td>4789</td>\n",
       "      <td>yes</td>\n",
       "      <td>yes</td>\n",
       "      <td>cellular</td>\n",
       "      <td>11</td>\n",
       "      <td>may</td>\n",
       "      <td>220</td>\n",
       "      <td>1</td>\n",
       "      <td>339</td>\n",
       "      <td>4</td>\n",
       "      <td>failure</td>\n",
       "      <td>no</td>\n",
       "    </tr>\n",
       "    <tr>\n",
       "      <th>2</th>\n",
       "      <td>35</td>\n",
       "      <td>management</td>\n",
       "      <td>single</td>\n",
       "      <td>tertiary</td>\n",
       "      <td>no</td>\n",
       "      <td>1350</td>\n",
       "      <td>yes</td>\n",
       "      <td>no</td>\n",
       "      <td>cellular</td>\n",
       "      <td>16</td>\n",
       "      <td>apr</td>\n",
       "      <td>185</td>\n",
       "      <td>1</td>\n",
       "      <td>330</td>\n",
       "      <td>1</td>\n",
       "      <td>failure</td>\n",
       "      <td>no</td>\n",
       "    </tr>\n",
       "    <tr>\n",
       "      <th>3</th>\n",
       "      <td>30</td>\n",
       "      <td>management</td>\n",
       "      <td>married</td>\n",
       "      <td>tertiary</td>\n",
       "      <td>no</td>\n",
       "      <td>1476</td>\n",
       "      <td>yes</td>\n",
       "      <td>yes</td>\n",
       "      <td>unknown</td>\n",
       "      <td>3</td>\n",
       "      <td>jun</td>\n",
       "      <td>199</td>\n",
       "      <td>4</td>\n",
       "      <td>-1</td>\n",
       "      <td>0</td>\n",
       "      <td>unknown</td>\n",
       "      <td>no</td>\n",
       "    </tr>\n",
       "    <tr>\n",
       "      <th>4</th>\n",
       "      <td>59</td>\n",
       "      <td>blue-collar</td>\n",
       "      <td>married</td>\n",
       "      <td>secondary</td>\n",
       "      <td>no</td>\n",
       "      <td>0</td>\n",
       "      <td>yes</td>\n",
       "      <td>no</td>\n",
       "      <td>unknown</td>\n",
       "      <td>5</td>\n",
       "      <td>may</td>\n",
       "      <td>226</td>\n",
       "      <td>1</td>\n",
       "      <td>-1</td>\n",
       "      <td>0</td>\n",
       "      <td>unknown</td>\n",
       "      <td>no</td>\n",
       "    </tr>\n",
       "  </tbody>\n",
       "</table>\n",
       "</div>"
      ],
      "text/plain": [
       "   Age   WorkStatus MarritalStatus ClassStatus Binary_1  Amount Binary_2  \\\n",
       "0   30   unemployed        married     primary       no    1787       no   \n",
       "1   33     services        married   secondary       no    4789      yes   \n",
       "2   35   management         single    tertiary       no    1350      yes   \n",
       "3   30   management        married    tertiary       no    1476      yes   \n",
       "4   59  blue-collar        married   secondary       no       0      yes   \n",
       "\n",
       "  Binary_3   Contact  Date Month  BigInteger  TinyInteger_1  RealNumber  \\\n",
       "0       no  cellular    19   oct          79              1          -1   \n",
       "1      yes  cellular    11   may         220              1         339   \n",
       "2       no  cellular    16   apr         185              1         330   \n",
       "3      yes   unknown     3   jun         199              4          -1   \n",
       "4       no   unknown     5   may         226              1          -1   \n",
       "\n",
       "   TinyInteger_2  Success Result  \n",
       "0              0  unknown     no  \n",
       "1              4  failure     no  \n",
       "2              1  failure     no  \n",
       "3              0  unknown     no  \n",
       "4              0  unknown     no  "
      ]
     },
     "execution_count": 3,
     "metadata": {},
     "output_type": "execute_result"
    }
   ],
   "source": [
    "# Add column names to the dataframe\n",
    "columns = ['Age', 'WorkStatus', 'MarritalStatus', 'ClassStatus', 'Binary_1', 'Amount', \n",
    "           'Binary_2', 'Binary_3', 'Contact', 'Date', 'Month', 'BigInteger', \n",
    "           'TinyInteger_1', 'RealNumber', 'TinyInteger_2', 'Success', 'Result']\n",
    "\n",
    "df = df.set_axis(columns, axis=1, inplace=False)\n",
    "df.head()"
   ]
  },
  {
   "cell_type": "code",
   "execution_count": 4,
   "id": "6f5a792d",
   "metadata": {
    "ExecuteTime": {
     "end_time": "2023-03-14T01:45:36.920089Z",
     "start_time": "2023-03-14T01:45:36.780883Z"
    }
   },
   "outputs": [
    {
     "name": "stdout",
     "output_type": "stream",
     "text": [
      "2023-03-13 18:45:36,805 INFO sqlalchemy.engine.Engine PRAGMA main.table_info(\"Bank\")\n",
      "2023-03-13 18:45:36,807 INFO sqlalchemy.engine.Engine [raw sql] ()\n",
      "2023-03-13 18:45:36,808 INFO sqlalchemy.engine.Engine PRAGMA temp.table_info(\"Bank\")\n",
      "2023-03-13 18:45:36,808 INFO sqlalchemy.engine.Engine [raw sql] ()\n",
      "2023-03-13 18:45:36,811 INFO sqlalchemy.engine.Engine \n",
      "CREATE TABLE \"Bank\" (\n",
      "\t\"index\" BIGINT, \n",
      "\t\"Age\" BIGINT, \n",
      "\t\"WorkStatus\" TEXT, \n",
      "\t\"MarritalStatus\" TEXT, \n",
      "\t\"ClassStatus\" TEXT, \n",
      "\t\"Binary_1\" TEXT, \n",
      "\t\"Amount\" BIGINT, \n",
      "\t\"Binary_2\" TEXT, \n",
      "\t\"Binary_3\" TEXT, \n",
      "\t\"Contact\" TEXT, \n",
      "\t\"Date\" BIGINT, \n",
      "\t\"Month\" TEXT, \n",
      "\t\"BigInteger\" BIGINT, \n",
      "\t\"TinyInteger_1\" BIGINT, \n",
      "\t\"RealNumber\" BIGINT, \n",
      "\t\"TinyInteger_2\" BIGINT, \n",
      "\t\"Success\" TEXT, \n",
      "\t\"Result\" TEXT\n",
      ")\n",
      "\n",
      "\n",
      "2023-03-13 18:45:36,812 INFO sqlalchemy.engine.Engine [no key 0.00059s] ()\n",
      "2023-03-13 18:45:36,818 INFO sqlalchemy.engine.Engine COMMIT\n",
      "2023-03-13 18:45:36,819 INFO sqlalchemy.engine.Engine CREATE INDEX \"ix_Bank_index\" ON \"Bank\" (\"index\")\n",
      "2023-03-13 18:45:36,819 INFO sqlalchemy.engine.Engine [no key 0.00052s] ()\n",
      "2023-03-13 18:45:36,825 INFO sqlalchemy.engine.Engine COMMIT\n",
      "2023-03-13 18:45:36,832 INFO sqlalchemy.engine.Engine BEGIN (implicit)\n",
      "2023-03-13 18:45:36,881 INFO sqlalchemy.engine.Engine INSERT INTO \"Bank\" (\"index\", \"Age\", \"WorkStatus\", \"MarritalStatus\", \"ClassStatus\", \"Binary_1\", \"Amount\", \"Binary_2\", \"Binary_3\", \"Contact\", \"Date\", \"Month\", \"BigInteger\", \"TinyInteger_1\", \"RealNumber\", \"TinyInteger_2\", \"Success\", \"Result\") VALUES (?, ?, ?, ?, ?, ?, ?, ?, ?, ?, ?, ?, ?, ?, ?, ?, ?, ?)\n",
      "2023-03-13 18:45:36,881 INFO sqlalchemy.engine.Engine [generated in 0.03972s] ((0, 30, 'unemployed', 'married', 'primary', 'no', 1787, 'no', 'no', 'cellular', 19, 'oct', 79, 1, -1, 0, 'unknown', 'no'), (1, 33, 'services', 'married', 'secondary', 'no', 4789, 'yes', 'yes', 'cellular', 11, 'may', 220, 1, 339, 4, 'failure', 'no'), (2, 35, 'management', 'single', 'tertiary', 'no', 1350, 'yes', 'no', 'cellular', 16, 'apr', 185, 1, 330, 1, 'failure', 'no'), (3, 30, 'management', 'married', 'tertiary', 'no', 1476, 'yes', 'yes', 'unknown', 3, 'jun', 199, 4, -1, 0, 'unknown', 'no'), (4, 59, 'blue-collar', 'married', 'secondary', 'no', 0, 'yes', 'no', 'unknown', 5, 'may', 226, 1, -1, 0, 'unknown', 'no'), (5, 35, 'management', 'single', 'tertiary', 'no', 747, 'no', 'no', 'cellular', 23, 'feb', 141, 2, 176, 3, 'failure', 'no'), (6, 36, 'self-employed', 'married', 'tertiary', 'no', 307, 'yes', 'no', 'cellular', 14, 'may', 341, 1, 330, 2, 'other', 'no'), (7, 39, 'technician', 'married', 'secondary', 'no', 147, 'yes', 'no', 'cellular', 6, 'may', 151, 2, -1, 0, 'unknown', 'no')  ... displaying 10 of 4521 total bound parameter sets ...  (4519, 28, 'blue-collar', 'married', 'secondary', 'no', 1137, 'no', 'no', 'cellular', 6, 'feb', 129, 4, 211, 3, 'other', 'no'), (4520, 44, 'entrepreneur', 'single', 'tertiary', 'no', 1136, 'yes', 'yes', 'cellular', 3, 'apr', 345, 2, 249, 7, 'other', 'no'))\n",
      "2023-03-13 18:45:36,901 INFO sqlalchemy.engine.Engine COMMIT\n",
      "2023-03-13 18:45:36,907 INFO sqlalchemy.engine.Engine SELECT name FROM sqlite_master WHERE type='table' ORDER BY name\n",
      "2023-03-13 18:45:36,907 INFO sqlalchemy.engine.Engine [raw sql] ()\n"
     ]
    }
   ],
   "source": [
    "# Save updated dataframe as sqlite DB file\n",
    "engine = create_engine('sqlite:///bank.db', echo=True)\n",
    "sqlite_connection = engine.connect()\n",
    "sqlite_table = \"Bank\"\n",
    "df.to_sql(sqlite_table, sqlite_connection, if_exists='fail')\n",
    "sqlite_connection.close()"
   ]
  },
  {
   "cell_type": "code",
   "execution_count": 5,
   "id": "233ee4e6",
   "metadata": {
    "ExecuteTime": {
     "end_time": "2023-03-14T01:45:42.277262Z",
     "start_time": "2023-03-14T01:45:42.216465Z"
    }
   },
   "outputs": [],
   "source": [
    "# Query the database file\n",
    "conn = sqlite3.connect(\"bank.db\")\n",
    "\n",
    "df = pd.read_sql('''\n",
    "    SELECT *\n",
    "    FROM Bank\n",
    "''', conn)\n",
    "\n",
    "conn.close()"
   ]
  },
  {
   "cell_type": "code",
   "execution_count": 6,
   "id": "52730d94",
   "metadata": {
    "ExecuteTime": {
     "end_time": "2023-03-14T01:45:43.135791Z",
     "start_time": "2023-03-14T01:45:42.920387Z"
    }
   },
   "outputs": [
    {
     "data": {
      "image/png": "[encoded data removed]",
      "text/plain": [
       "<Figure size 432x288 with 1 Axes>"
      ]
     },
     "metadata": {
      "needs_background": "light"
     },
     "output_type": "display_data"
    }
   ],
   "source": [
    "# Create data visualization\n",
    "fig, ax = plt.subplots()\n",
    "\n",
    "hist = ax.hist(df['Age'], bins=10, density=True)"
   ]
  },
  {
   "cell_type": "code",
   "execution_count": 18,
   "id": "27f7aad3",
   "metadata": {
    "ExecuteTime": {
     "end_time": "2023-03-14T01:51:55.075036Z",
     "start_time": "2023-03-14T01:51:54.854728Z"
    }
   },
   "outputs": [
    {
     "data": {
      "image/png": "[encoded data removed]",
      "text/plain": [
       "<Figure size 720x360 with 2 Axes>"
      ]
     },
     "metadata": {
      "needs_background": "light"
     },
     "output_type": "display_data"
    }
   ],
   "source": [
    "fig, ax = plt.subplots(2,figsize=(10, 5))\n",
    "single = df.loc[df['MarritalStatus']=='single']\n",
    "married = df.loc[df['MarritalStatus']=='married']\n",
    "ax[0].hist(single['Age'], bins=20, density=True)\n",
    "ax[1].hist(married['Age'], bins=20, density=True)\n",
    "fig.suptitle('Age Distribution Between Married and Single')\n",
    "plt.show()"
   ]
  },
  {
   "cell_type": "code",
   "execution_count": null,
   "id": "ae19f736",
   "metadata": {},
   "outputs": [],
   "source": []
  }
 ],
 "metadata": {
  "kernelspec": {
   "display_name": "Python 3 (ipykernel)",
   "language": "python",
   "name": "python3"
  },
  "language_info": {
   "codemirror_mode": {
    "name": "ipython",
    "version": 3
   },
   "file_extension": ".py",
   "mimetype": "text/x-python",
   "name": "python",
   "nbconvert_exporter": "python",
   "pygments_lexer": "ipython3",
   "version": "3.8.12"
  },
  "latex_envs": {
   "LaTeX_envs_menu_present": true,
   "autoclose": false,
   "autocomplete": true,
   "bibliofile": "biblio.bib",
   "cite_by": "apalike",
   "current_citInitial": 1,
   "eqLabelWithNumbers": true,
   "eqNumInitial": 1,
   "hotkeys": {
    "equation": "Ctrl-E",
    "itemize": "Ctrl-I"
   },
   "labels_anchors": false,
   "latex_user_defs": false,
   "report_style_numbering": false,
   "user_envs_cfg": false
  },
  "toc": {
   "base_numbering": 1,
   "nav_menu": {},
   "number_sections": true,
   "sideBar": true,
   "skip_h1_title": false,
   "title_cell": "Table of Contents",
   "title_sidebar": "Contents",
   "toc_cell": false,
   "toc_position": {},
   "toc_section_display": true,
   "toc_window_display": false
  }
 },
 "nbformat": 4,
 "nbformat_minor": 5
}
